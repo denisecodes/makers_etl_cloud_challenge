{
 "cells": [
  {
   "cell_type": "markdown",
   "metadata": {},
   "source": [
    "### Challenge\n",
    "Find the most visited URL per country per day during a week of your choice (e.g. 2018-04-01 until 2018-04-08)."
   ]
  },
  {
   "cell_type": "markdown",
   "metadata": {},
   "source": [
    "### Expected output\n",
    "As part of this challenge, we would like you to create a more detailed diagram of the whole system, with every resource reflected on it. Include an explanation on what it is that it does and your approach to solving the challenge.\n",
    "\n",
    "Feel free to include as well any code or screenshots that are part of your solution if relevant!"
   ]
  },
  {
   "cell_type": "markdown",
   "metadata": {},
   "source": [
    "### Approach\n",
    "#### Athena\n",
    "1. Understand the data using Athena i.e. what the column names mean, what kind of values and data types\n",
    "2. Choose which columns would be useful - i.e. country_code, url_visited, date\n",
    "3. Test queries out step by step with the following to try out:\n",
    "    * COUNT(date) to count how many url per country per day\n",
    "    * Filter the dates: BETWEEN 2018-04-01 AND 2018-04-08\n",
    "    * Use GROUP by on country_code, date\n",
    "    * Do some research to find out how we could get the url that is most visited on the url column\n",
    "4. Repeat testing until the query performs as expected and gives the output I am looking for"
   ]
  },
  {
   "cell_type": "markdown",
   "metadata": {},
   "source": [
    "Below is the table I expect to transform to be loaded to my psql table locally"
   ]
  },
  {
   "cell_type": "markdown",
   "metadata": {},
   "source": [
    "| country_code | date       | most_visited_url                |\n",
    "|---------|------------|--------------------|\n",
    "| US    | 2018-04-01 | www.netflix.com |\n",
    "| CA   | 2018-04-01 | www.netflix.com  |"
   ]
  },
  {
   "cell_type": "markdown",
   "metadata": {},
   "source": [
    "### Documenting the SQL queries I did in Athena\n"
   ]
  },
  {
   "cell_type": "markdown",
   "metadata": {},
   "source": [
    "1. Get the first five rows to understand what kind of values each column contains\n",
    "```\n",
    "SELECT *\n",
    "FROM vod_clickstream\n",
    "LIMIT 5;\n",
    "```\n",
    "* After executing this query, I found that \n",
    "    * `server_request_country_code` shows the country code\n",
    "    * `dt` shows the full date i.e. 2016-06-09\n",
    "    * `event_url` shows the url visited i.e. https://www.netflix.com/browse"
   ]
  },
  {
   "cell_type": "markdown",
   "metadata": {},
   "source": [
    "2. Base on the above findings, I decided to narrow down and check out these three columns\n",
    "```\n",
    "SELECT \n",
    "server_request_country_code, \n",
    "dt, \n",
    "event_url\n",
    "FROM \n",
    "vod_clickstream\n",
    "LIMIT 5;\n",
    "```\n",
    "Below is the output I got from Athena and I thought it looked good with the info I need find out what's the most visited url for each country per day for a week of my choice\n",
    "![Image showing the output from Athena after narrowing down to the 3 columns](./athena_outputs/narrow_query.png)"
   ]
  },
  {
   "cell_type": "markdown",
   "metadata": {},
   "source": [
    "3. After this I decided to try and filter the dates using the BETWEEN clause\n",
    "```\n",
    "SELECT \n",
    "server_request_country_code, \n",
    "dt, \n",
    "event_url\n",
    "FROM \n",
    "vod_clickstream\n",
    "WHERE dt BETWEEN '2018-04-01' AND '2018-04-08'\n",
    "LIMIT 5;\n",
    "```\n",
    "![Image showing the output from Athena after  filtering on the dates to the week of my choice](./athena_outputs/filter_dates_query.png)"
   ]
  },
  {
   "cell_type": "markdown",
   "metadata": {},
   "source": [
    "4. Next I decided to try group by on the country code and date so that I can see if it includes all the dates I need. I choose to filter on the country code to be Hong Kong so it's easier to see without all the countries. In the process I was reminded that to use GROUP BY you need to have an aggregate function so to be easy, I just decided to use COUNT on the event_url\n",
    "```\n",
    "SELECT \n",
    "server_request_country_code,  \n",
    "dt, \n",
    "COUNT(event_url) AS total_url_visited\n",
    "FROM \n",
    "vod_clickstream\n",
    "WHERE dt BETWEEN '2018-04-01' AND '2018-04-08'\n",
    "AND server_request_country_code = 'HK'\n",
    "GROUP BY server_request_country_code, dt;\n",
    "```\n",
    "![Image showing the output of the GROUP BY query filtering on country being Hong Kong](./athena_outputs/group_by_check_dates_query.png)"
   ]
  },
  {
   "cell_type": "markdown",
   "metadata": {},
   "source": [
    "This looks great except we need to filter out one of the extra days as there are 8 days above. After further checking, 2018-04-01 is a Sunday and I want to use the week beginning on a Monday so this date will be filtered out now."
   ]
  },
  {
   "cell_type": "markdown",
   "metadata": {},
   "source": [
    "5. Adjusted the BETWEEN clause so 2018-04-01 is not included\n",
    "```\n",
    "SELECT \n",
    "server_request_country_code,  \n",
    "dt, \n",
    "COUNT(event_url) AS total_url_visited\n",
    "FROM \n",
    "vod_clickstream\n",
    "WHERE dt BETWEEN '2018-04-02' AND '2018-04-08'\n",
    "AND server_request_country_code = 'HK'\n",
    "GROUP BY server_request_country_code, dt;\n",
    "```\n",
    "![Image showing 2018-04-01 not included in the results anymore](./athena_outputs/optimised_between_clause_query.png)"
   ]
  },
  {
   "cell_type": "code",
   "execution_count": 1,
   "metadata": {},
   "outputs": [],
   "source": [
    "import boto3\n",
    "import time\n",
    "import psycopg2\n",
    "from dotenv import load_dotenv\n",
    "import os"
   ]
  }
 ],
 "metadata": {
  "kernelspec": {
   "display_name": "etl_cloud_db_challenge_venv",
   "language": "python",
   "name": "python3"
  },
  "language_info": {
   "codemirror_mode": {
    "name": "ipython",
    "version": 3
   },
   "file_extension": ".py",
   "mimetype": "text/x-python",
   "name": "python",
   "nbconvert_exporter": "python",
   "pygments_lexer": "ipython3",
   "version": "3.11.3"
  }
 },
 "nbformat": 4,
 "nbformat_minor": 2
}
